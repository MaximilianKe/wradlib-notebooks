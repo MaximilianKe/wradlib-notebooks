{
 "cells": [
  {
   "cell_type": "markdown",
   "metadata": {
    "nbsphinx": "hidden",
    "slideshow": {
     "slide_type": "skip"
    }
   },
   "source": [
    "This notebook is part of the $\\omega radlib$ documentation: http://docs.wradlib.org.\n",
    "\n",
    "Copyright (c) $\\omega radlib$ developers.\n",
    "Distributed under the MIT License. See LICENSE.txt for more info."
   ]
  },
  {
   "cell_type": "markdown",
   "metadata": {
    "slideshow": {
     "slide_type": "slide"
    }
   },
   "source": [
    "# A quick start to zonal statistics "
   ]
  },
  {
   "cell_type": "markdown",
   "metadata": {
    "slideshow": {
     "slide_type": "fragment"
    }
   },
   "source": [
    "Zonal statistics can be used to compute e.g. the areal average precipitation over a catchment."
   ]
  },
  {
   "cell_type": "markdown",
   "metadata": {
    "slideshow": {
     "slide_type": "fragment"
    }
   },
   "source": [
    "Here, we show a brief example using RADOLAN composite data from the German Weather Service (DWD)."
   ]
  },
  {
   "cell_type": "code",
   "execution_count": 1,
   "metadata": {
    "slideshow": {
     "slide_type": "slide"
    }
   },
   "outputs": [],
   "source": [
    "import wradlib as wrl\n",
    "import matplotlib.pyplot as pl\n",
    "import matplotlib as mpl\n",
    "import warnings\n",
    "warnings.filterwarnings('ignore')\n",
    "try:\n",
    "    get_ipython().magic(\"matplotlib inline\")\n",
    "except:\n",
    "    pl.ion()\n",
    "import numpy as np\n",
    "from osgeo import osr"
   ]
  },
  {
   "cell_type": "markdown",
   "metadata": {
    "slideshow": {
     "slide_type": "slide"
    }
   },
   "source": [
    "## Preparing the RADOLAN data"
   ]
  },
  {
   "cell_type": "markdown",
   "metadata": {
    "slideshow": {
     "slide_type": "fragment"
    }
   },
   "source": [
    "Preparing the radar composite data includes to\n",
    "- read the data,\n",
    "- geoference the data in native RADOLAN projection,\n",
    "- reproject the data to Germany Zone 2 projection."
   ]
  },
  {
   "cell_type": "code",
   "execution_count": 2,
   "metadata": {
    "slideshow": {
     "slide_type": "fragment"
    }
   },
   "outputs": [],
   "source": [
    "# Read and preprocess the RADOLAN data\n",
    "fpath = 'radolan/misc/raa01-sf_10000-1406100050-dwd---bin.gz'\n",
    "f = wrl.util.get_wradlib_data_file(fpath)\n",
    "data, attrs = wrl.io.read_radolan_composite(f, missing=np.nan)\n",
    "sec = attrs['secondary']\n",
    "data.flat[sec] = np.nan"
   ]
  },
  {
   "cell_type": "code",
   "execution_count": 3,
   "metadata": {
    "slideshow": {
     "slide_type": "fragment"
    }
   },
   "outputs": [],
   "source": [
    "# Get RADOLAN grid coordinates (lon/lat)\n",
    "grid_xy_radolan = wrl.georef.get_radolan_grid(900, 900)\n",
    "x_radolan = grid_xy_radolan[:, :, 0]\n",
    "y_radolan = grid_xy_radolan[:, :, 1]"
   ]
  },
  {
   "cell_type": "code",
   "execution_count": 4,
   "metadata": {
    "slideshow": {
     "slide_type": "fragment"
    }
   },
   "outputs": [],
   "source": [
    "# This is the native RADOLAN projection\n",
    "# (polar stereographic projection)\n",
    "proj_stereo = wrl.georef.create_osr(\"dwd-radolan\")\n",
    "\n",
    "# This is our target projection (Germany Zone 2)\n",
    "proj_gk = osr.SpatialReference()\n",
    "_ = proj_gk.ImportFromEPSG(31466)"
   ]
  },
  {
   "cell_type": "code",
   "execution_count": 5,
   "metadata": {
    "slideshow": {
     "slide_type": "fragment"
    }
   },
   "outputs": [],
   "source": [
    "# Reproject the RADOLAN coordinates\n",
    "xy = wrl.georef.reproject(grid_xy_radolan,\n",
    "                          projection_source=proj_stereo,\n",
    "                          projection_target=proj_gk)"
   ]
  },
  {
   "cell_type": "markdown",
   "metadata": {
    "slideshow": {
     "slide_type": "slide"
    }
   },
   "source": [
    "## Import catchment boundaries from ESRI shapefile"
   ]
  },
  {
   "cell_type": "code",
   "execution_count": 6,
   "metadata": {
    "slideshow": {
     "slide_type": "fragment"
    }
   },
   "outputs": [
    {
     "name": "stdout",
     "output_type": "stream",
     "text": [
      "Found 13 sub-catchments in shapefile.\n"
     ]
    }
   ],
   "source": [
    "# Open shapefile (already in GK2)\n",
    "shpfile = wrl.util.get_wradlib_data_file(\n",
    "    'shapefiles/agger/agger_merge.shp')\n",
    "dataset, inLayer = wrl.io.open_vector(shpfile)\n",
    "cats, keys = wrl.georef.get_vector_coordinates(inLayer)\n",
    "print(\"Found %d sub-catchments in shapefile.\" % len(cats))"
   ]
  },
  {
   "cell_type": "markdown",
   "metadata": {
    "slideshow": {
     "slide_type": "slide"
    }
   },
   "source": [
    "## Clip subgrid from RADOLAN grid "
   ]
  },
  {
   "cell_type": "markdown",
   "metadata": {
    "slideshow": {
     "slide_type": "fragment"
    }
   },
   "source": [
    "This is just to speed up the computation (so we don't have to deal with the full grid)."
   ]
  },
  {
   "cell_type": "code",
   "execution_count": 7,
   "metadata": {
    "slideshow": {
     "slide_type": "fragment"
    }
   },
   "outputs": [],
   "source": [
    "bbox = inLayer.GetExtent()\n",
    "buffer = 5000.\n",
    "bbox = dict(left=bbox[0] - buffer, right=bbox[1] + buffer,\n",
    "            bottom=bbox[2] - buffer, top=bbox[3] + buffer)\n",
    "mask = (((xy[..., 1] > bbox['bottom']) & (xy[..., 1] < bbox['top'])) &\n",
    "        ((xy[..., 0] > bbox['left']) & (xy[..., 0] < bbox['right'])))\n",
    "xy_ = np.dstack((xy[..., 0][mask].ravel(), xy[..., 1][mask].ravel()))\n",
    "data_ = data[mask]"
   ]
  },
  {
   "cell_type": "markdown",
   "metadata": {
    "slideshow": {
     "slide_type": "slide"
    }
   },
   "source": [
    "## Compute the average precipitation for each catchment"
   ]
  },
  {
   "cell_type": "markdown",
   "metadata": {
    "slideshow": {
     "slide_type": "fragment"
    }
   },
   "source": [
    "To compute the zonal average, we have to understand the the grid cells as *polygons* defined by a set of *vertices*."
   ]
  },
  {
   "cell_type": "code",
   "execution_count": 8,
   "metadata": {
    "slideshow": {
     "slide_type": "fragment"
    }
   },
   "outputs": [],
   "source": [
    "# Create vertices for each grid cell\n",
    "# (MUST BE DONE IN NATIVE RADOLAN COORDINATES)\n",
    "grdverts = wrl.zonalstats.grid_centers_to_vertices(x_radolan[mask],\n",
    "                                                   y_radolan[mask], \n",
    "                                                   1., 1.)\n",
    "# And reproject to our target projection (here: GK2)\n",
    "grdverts = wrl.georef.reproject(grdverts,\n",
    "                                projection_source=proj_stereo,\n",
    "                                projection_target=proj_gk)"
   ]
  },
  {
   "cell_type": "markdown",
   "metadata": {
    "slideshow": {
     "slide_type": "fragment"
    }
   },
   "source": [
    "Based on the overlap of these polygons with the catchment area, we can then compute a *weighted average*. "
   ]
  },
  {
   "cell_type": "code",
   "execution_count": 9,
   "metadata": {
    "slideshow": {
     "slide_type": "fragment"
    }
   },
   "outputs": [],
   "source": [
    "# This object collects our source and target data\n",
    "#   and computes the intersections\n",
    "zd = wrl.zonalstats.ZonalDataPoly(grdverts, cats, srs=proj_gk)\n",
    "\n",
    "# This object can actually compute the statistics\n",
    "obj = wrl.zonalstats.ZonalStatsPoly(zd)\n",
    "\n",
    "# We just call this object with any set of radar data\n",
    "avg = obj.mean(data_.ravel())"
   ]
  },
  {
   "cell_type": "markdown",
   "metadata": {
    "slideshow": {
     "slide_type": "slide"
    }
   },
   "source": [
    "## Plot results in map"
   ]
  },
  {
   "cell_type": "code",
   "execution_count": 10,
   "metadata": {
    "slideshow": {
     "slide_type": "fragment"
    }
   },
   "outputs": [
    {
     "data": {
      "image/png": "[encoded data removed]",
      "text/plain": [
       "<Figure size 720x720 with 4 Axes>"
      ]
     },
     "metadata": {},
     "output_type": "display_data"
    }
   ],
   "source": [
    "from matplotlib.collections import PatchCollection\n",
    "from matplotlib.colors import from_levels_and_colors\n",
    "import matplotlib.patches as patches\n",
    "\n",
    "# Create discrete colormap\n",
    "levels=np.arange(0,30,2.5)\n",
    "colors = pl.cm.inferno(np.linspace(0, 1, len(levels)))\n",
    "mycmap, mynorm = from_levels_and_colors(levels, colors, extend=\"max\")\n",
    "\n",
    "fig = pl.figure(figsize=(10, 10))\n",
    "\n",
    "# Average rainfall sum\n",
    "ax = fig.add_subplot(121, aspect=\"equal\")\n",
    "patches = [patches.Polygon(item, True) for item in obj.zdata.trg.data]\n",
    "coll = PatchCollection(patches, array=avg, cmap=mycmap, norm=mynorm,\n",
    "                       edgecolors='white', lw=0.5)\n",
    "ax.add_collection(coll)\n",
    "pl.colorbar(coll, ax=ax, orientation=\"horizontal\", pad=0.05)\n",
    "pl.xlabel(\"GK2 Easting (m)\")\n",
    "pl.ylabel(\"GK2 Northing (m)\")\n",
    "pl.title(\"Catchment areal average\")\n",
    "pl.xlim(bbox[\"left\"], bbox[\"right\"])\n",
    "pl.ylim(bbox[\"bottom\"], bbox[\"top\"])\n",
    "pl.grid()\n",
    "\n",
    "# Original radar data\n",
    "ax = fig.add_subplot(122, aspect=\"equal\")\n",
    "pm = pl.pcolormesh(xy[:, :, 0], xy[:, :, 1], \n",
    "                   np.ma.masked_invalid(data),\n",
    "                   cmap=mycmap, norm=mynorm)\n",
    "wrl.vis.add_patches(ax=ax, patch_array=cats, \n",
    "                    facecolor=\"None\", edgecolor=\"white\")\n",
    "cb = pl.colorbar(pm, ax=ax, orientation=\"horizontal\", pad=0.05)\n",
    "cb.set_label(\"(mm/h)\")\n",
    "pl.xlabel(\"GK2 Easting (m)\")\n",
    "pl.ylabel(\"GK2 Northing (m)\")\n",
    "pl.title(\"RADOLAN rain depth\")\n",
    "pl.xlim(bbox[\"left\"], bbox[\"right\"])\n",
    "pl.ylim(bbox[\"bottom\"], bbox[\"top\"])\n",
    "pl.grid(color=\"white\")\n",
    "pl.tight_layout()"
   ]
  },
  {
   "cell_type": "markdown",
   "metadata": {
    "slideshow": {
     "slide_type": "slide"
    }
   },
   "source": [
    "## Save time by reading the weights from a file"
   ]
  },
  {
   "cell_type": "markdown",
   "metadata": {
    "slideshow": {
     "slide_type": "fragment"
    }
   },
   "source": [
    "The computational expensive part is the computation of intersections and weights. You only need to do it *once*.\n",
    "\n",
    "You can dump the results on disk and read them from there when required. Let's do a little benchmark:"
   ]
  },
  {
   "cell_type": "code",
   "execution_count": 11,
   "metadata": {
    "slideshow": {
     "slide_type": "fragment"
    }
   },
   "outputs": [
    {
     "name": "stdout",
     "output_type": "stream",
     "text": [
      "\n",
      "Create object from file: 0.097456 seconds\n",
      "Create object from sratch: 3.024742 seconds\n",
      "Compute stats: 0.001937 seconds\n"
     ]
    }
   ],
   "source": [
    "import datetime as dt\n",
    "\n",
    "# dump to file\n",
    "zd.dump_vector('test_zonal_poly_cart')\n",
    "\n",
    "t1 = dt.datetime.now()\n",
    "# Create instance of type ZonalStatsPoly from zonal data file\n",
    "obj = wrl.zonalstats.ZonalStatsPoly('test_zonal_poly_cart')\n",
    "t2 = dt.datetime.now()\n",
    "\n",
    "# Create instance of type ZonalStatsPoly from sratch\n",
    "zd = wrl.zonalstats.ZonalDataPoly(grdverts, cats, srs=proj_gk)\n",
    "obj = wrl.zonalstats.ZonalStatsPoly(zd)\n",
    "t3 = dt.datetime.now()\n",
    "\n",
    "# Calling the object\n",
    "avg = obj.mean(data_.ravel())\n",
    "t4 = dt.datetime.now()\n",
    "\n",
    "print(\"\\nCreate object from file: %f seconds\" % (t2 - t1).total_seconds())\n",
    "print(\"Create object from sratch: %f seconds\" % (t3 - t2).total_seconds())\n",
    "print(\"Compute stats: %f seconds\" % (t4 - t3).total_seconds())"
   ]
  }
 ],
 "metadata": {
  "celltoolbar": "Slideshow",
  "kernelspec": {
   "display_name": "Python 3",
   "language": "python",
   "name": "python3"
  },
  "language_info": {
   "codemirror_mode": {
    "name": "ipython",
    "version": 3
   },
   "file_extension": ".py",
   "mimetype": "text/x-python",
   "name": "python",
   "nbconvert_exporter": "python",
   "pygments_lexer": "ipython3",
   "version": "3.6.5"
  },
  "livereveal": {
   "scroll": true
  },
  "toc": {
   "colors": {
    "hover_highlight": "#DAA520",
    "navigate_num": "#000000",
    "navigate_text": "#333333",
    "running_highlight": "#FF0000",
    "selected_highlight": "#FFD700",
    "sidebar_border": "#EEEEEE",
    "wrapper_background": "#FFFFFF"
   },
   "moveMenuLeft": true,
   "nav_menu": {
    "height": "158px",
    "width": "252px"
   },
   "navigate_menu": true,
   "number_sections": false,
   "sideBar": true,
   "threshold": 4,
   "toc_cell": false,
   "toc_section_display": "block",
   "toc_window_display": false,
   "widenNotebook": false
  }
 },
 "nbformat": 4,
 "nbformat_minor": 1
}
